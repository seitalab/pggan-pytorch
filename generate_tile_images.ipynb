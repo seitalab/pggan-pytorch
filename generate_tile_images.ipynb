{
 "cells": [
  {
   "cell_type": "code",
   "execution_count": 21,
   "metadata": {},
   "outputs": [
    {
     "name": "stdout",
     "output_type": "stream",
     "text": [
      "['gen_R3_T305.pth.tar', 'gen_R3_T310.pth.tar', 'gen_R3_T315.pth.tar', 'gen_R3_T320.pth.tar', 'gen_R3_T325.pth.tar', 'gen_R3_T330.pth.tar', 'gen_R3_T335.pth.tar', 'gen_R3_T340.pth.tar', 'gen_R3_T345.pth.tar', 'gen_R3_T350.pth.tar', 'gen_R3_T355.pth.tar', 'gen_R3_T360.pth.tar', 'gen_R3_T365.pth.tar', 'gen_R3_T370.pth.tar', 'gen_R3_T375.pth.tar', 'gen_R3_T380.pth.tar', 'gen_R3_T385.pth.tar', 'gen_R3_T390.pth.tar', 'gen_R3_T395.pth.tar', 'gen_R3_T400.pth.tar', 'gen_R4_T505.pth.tar', 'gen_R4_T510.pth.tar', 'gen_R4_T515.pth.tar', 'gen_R4_T520.pth.tar', 'gen_R4_T525.pth.tar', 'gen_R4_T530.pth.tar', 'gen_R4_T535.pth.tar', 'gen_R4_T540.pth.tar', 'gen_R4_T545.pth.tar', 'gen_R4_T550.pth.tar', 'gen_R4_T555.pth.tar', 'gen_R4_T560.pth.tar', 'gen_R4_T565.pth.tar', 'gen_R4_T570.pth.tar', 'gen_R4_T575.pth.tar', 'gen_R4_T580.pth.tar', 'gen_R4_T585.pth.tar', 'gen_R4_T590.pth.tar', 'gen_R4_T595.pth.tar', 'gen_R4_T600.pth.tar', 'gen_R5_T705.pth.tar', 'gen_R5_T710.pth.tar', 'gen_R5_T715.pth.tar', 'gen_R5_T720.pth.tar', 'gen_R5_T725.pth.tar', 'gen_R5_T730.pth.tar', 'gen_R5_T735.pth.tar', 'gen_R5_T740.pth.tar', 'gen_R5_T745.pth.tar', 'gen_R5_T750.pth.tar', 'gen_R5_T755.pth.tar', 'gen_R5_T760.pth.tar', 'gen_R5_T765.pth.tar', 'gen_R5_T770.pth.tar', 'gen_R5_T775.pth.tar', 'gen_R5_T780.pth.tar', 'gen_R5_T785.pth.tar', 'gen_R5_T790.pth.tar', 'gen_R5_T795.pth.tar', 'gen_R5_T800.pth.tar', 'gen_R6_T1000.pth.tar', 'gen_R6_T905.pth.tar', 'gen_R6_T910.pth.tar', 'gen_R6_T915.pth.tar', 'gen_R6_T920.pth.tar', 'gen_R6_T925.pth.tar', 'gen_R6_T930.pth.tar', 'gen_R6_T935.pth.tar', 'gen_R6_T940.pth.tar', 'gen_R6_T945.pth.tar', 'gen_R6_T950.pth.tar', 'gen_R6_T955.pth.tar', 'gen_R6_T960.pth.tar', 'gen_R6_T965.pth.tar', 'gen_R6_T970.pth.tar', 'gen_R6_T975.pth.tar', 'gen_R6_T980.pth.tar', 'gen_R6_T985.pth.tar', 'gen_R6_T990.pth.tar', 'gen_R6_T995.pth.tar', 'gen_R7_T1105.pth.tar', 'gen_R7_T1110.pth.tar', 'gen_R7_T1115.pth.tar', 'gen_R7_T1120.pth.tar', 'gen_R7_T1125.pth.tar', 'gen_R7_T1130.pth.tar', 'gen_R7_T1135.pth.tar', 'gen_R7_T1140.pth.tar', 'gen_R7_T1145.pth.tar', 'gen_R7_T1150.pth.tar', 'gen_R7_T1155.pth.tar', 'gen_R7_T1160.pth.tar', 'gen_R7_T1165.pth.tar', 'gen_R7_T1170.pth.tar', 'gen_R7_T1175.pth.tar', 'gen_R7_T1180.pth.tar', 'gen_R7_T1185.pth.tar', 'gen_R7_T1190.pth.tar', 'gen_R7_T1195.pth.tar', 'gen_R7_T1200.pth.tar', 'gen_R8_T1305.pth.tar', 'gen_R8_T1310.pth.tar', 'gen_R8_T1315.pth.tar', 'gen_R8_T1320.pth.tar', 'gen_R8_T1325.pth.tar', 'gen_R8_T1330.pth.tar', 'gen_R8_T1335.pth.tar', 'gen_R8_T1340.pth.tar', 'gen_R8_T1345.pth.tar', 'gen_R8_T1350.pth.tar', 'gen_R8_T1355.pth.tar', 'gen_R8_T1360.pth.tar', 'gen_R8_T1365.pth.tar', 'gen_R8_T1370.pth.tar', 'gen_R8_T1375.pth.tar', 'gen_R8_T1380.pth.tar', 'gen_R8_T1385.pth.tar', 'gen_R8_T1390.pth.tar', 'gen_R8_T1395.pth.tar', 'gen_R8_T1400.pth.tar', 'gen_R8_T1405.pth.tar', 'gen_R8_T1410.pth.tar', 'gen_R8_T1415.pth.tar', 'gen_R8_T1420.pth.tar', 'gen_R8_T1425.pth.tar', 'gen_R8_T1430.pth.tar', 'gen_R8_T1435.pth.tar', 'gen_R8_T1440.pth.tar', 'gen_R8_T1445.pth.tar', 'gen_R8_T1450.pth.tar', 'gen_R8_T1455.pth.tar', 'gen_R8_T1460.pth.tar', 'gen_R8_T1465.pth.tar', 'gen_R8_T1470.pth.tar', 'gen_R8_T1475.pth.tar', 'gen_R8_T1480.pth.tar', 'gen_R8_T1485.pth.tar', 'gen_R8_T1490.pth.tar', 'gen_R8_T1495.pth.tar', 'gen_R8_T1500.pth.tar', 'gen_R8_T1505.pth.tar', 'gen_R8_T1510.pth.tar', 'gen_R8_T1515.pth.tar', 'gen_R8_T1520.pth.tar', 'gen_R8_T1525.pth.tar', 'gen_R8_T1530.pth.tar', 'gen_R8_T1535.pth.tar', 'gen_R8_T1540.pth.tar', 'gen_R8_T1545.pth.tar', 'gen_R8_T1550.pth.tar', 'gen_R8_T1555.pth.tar', 'gen_R8_T1560.pth.tar', 'gen_R8_T1565.pth.tar', 'gen_R8_T1570.pth.tar', 'gen_R8_T1575.pth.tar', 'gen_R8_T1580.pth.tar', 'gen_R8_T1585.pth.tar', 'gen_R8_T1590.pth.tar', 'gen_R8_T1595.pth.tar', 'gen_R8_T1600.pth.tar', 'gen_R8_T1605.pth.tar', 'gen_R8_T1610.pth.tar', 'gen_R8_T1615.pth.tar', 'gen_R8_T1620.pth.tar', 'gen_R8_T1625.pth.tar', 'gen_R8_T1630.pth.tar', 'gen_R8_T1635.pth.tar', 'gen_R8_T1640.pth.tar', 'gen_R8_T1645.pth.tar', 'gen_R8_T1650.pth.tar', 'gen_R8_T1655.pth.tar', 'gen_R8_T1660.pth.tar', 'gen_R8_T1665.pth.tar', 'gen_R8_T1670.pth.tar', 'gen_R8_T1675.pth.tar', 'gen_R8_T1680.pth.tar', 'gen_R8_T1685.pth.tar', 'gen_R8_T1690.pth.tar', 'gen_R8_T1695.pth.tar', 'gen_R8_T1700.pth.tar', 'gen_R8_T1705.pth.tar', 'gen_R8_T1710.pth.tar', 'gen_R8_T1715.pth.tar', 'gen_R8_T1720.pth.tar', 'gen_R8_T1725.pth.tar', 'gen_R8_T1730.pth.tar', 'gen_R8_T1735.pth.tar', 'gen_R8_T1740.pth.tar', 'gen_R8_T1745.pth.tar', 'gen_R8_T1750.pth.tar', 'gen_R8_T1755.pth.tar', 'gen_R8_T1760.pth.tar', 'gen_R8_T1765.pth.tar', 'gen_R8_T1770.pth.tar', 'gen_R8_T1775.pth.tar', 'gen_R8_T1780.pth.tar', 'gen_R8_T1785.pth.tar', 'gen_R8_T1790.pth.tar', 'gen_R8_T1795.pth.tar', 'gen_R8_T1800.pth.tar', 'gen_R8_T1805.pth.tar', 'gen_R8_T1810.pth.tar', 'gen_R8_T1815.pth.tar', 'gen_R8_T1820.pth.tar', 'gen_R8_T1825.pth.tar', 'gen_R8_T1830.pth.tar', 'gen_R8_T1835.pth.tar', 'gen_R8_T1840.pth.tar', 'gen_R8_T1845.pth.tar', 'gen_R8_T1850.pth.tar', 'gen_R8_T1855.pth.tar', 'gen_R8_T1860.pth.tar', 'gen_R8_T1865.pth.tar', 'gen_R8_T1870.pth.tar', 'gen_R8_T1875.pth.tar', 'gen_R8_T1880.pth.tar', 'gen_R8_T1885.pth.tar', 'gen_R8_T1890.pth.tar', 'gen_R8_T1895.pth.tar', 'gen_R8_T1900.pth.tar', 'gen_R8_T1905.pth.tar', 'gen_R8_T1910.pth.tar', 'gen_R8_T1915.pth.tar', 'gen_R8_T1920.pth.tar', 'gen_R8_T1925.pth.tar', 'gen_R8_T1930.pth.tar', 'gen_R8_T1935.pth.tar', 'gen_R8_T1940.pth.tar', 'gen_R8_T1945.pth.tar', 'gen_R8_T1950.pth.tar', 'gen_R8_T1955.pth.tar', 'gen_R8_T1960.pth.tar', 'gen_R8_T1965.pth.tar', 'gen_R8_T1970.pth.tar', 'gen_R8_T1975.pth.tar', 'gen_R8_T1980.pth.tar', 'gen_R8_T1985.pth.tar', 'gen_R8_T1990.pth.tar', 'gen_R8_T1995.pth.tar', 'gen_R8_T2000.pth.tar', 'gen_R8_T2005.pth.tar', 'gen_R8_T2010.pth.tar', 'gen_R8_T2015.pth.tar', 'gen_R8_T2020.pth.tar', 'gen_R8_T2025.pth.tar', 'gen_R8_T2030.pth.tar', 'gen_R8_T2035.pth.tar', 'gen_R8_T2040.pth.tar', 'gen_R8_T2045.pth.tar', 'gen_R8_T2050.pth.tar', 'gen_R8_T2055.pth.tar', 'gen_R8_T2060.pth.tar', 'gen_R8_T2065.pth.tar', 'gen_R8_T2070.pth.tar', 'gen_R8_T2075.pth.tar', 'gen_R8_T2080.pth.tar', 'gen_R8_T2085.pth.tar', 'gen_R8_T2090.pth.tar', 'gen_R8_T2095.pth.tar', 'gen_R8_T2100.pth.tar', 'gen_R8_T2105.pth.tar', 'gen_R8_T2110.pth.tar', 'gen_R8_T2115.pth.tar', 'gen_R8_T2120.pth.tar', 'gen_R8_T2125.pth.tar', 'gen_R8_T2130.pth.tar', 'gen_R8_T2135.pth.tar', 'gen_R8_T2140.pth.tar', 'gen_R8_T2145.pth.tar', 'gen_R8_T2150.pth.tar', 'gen_R8_T2155.pth.tar', 'gen_R8_T2160.pth.tar', 'gen_R8_T2165.pth.tar', 'gen_R8_T2170.pth.tar', 'gen_R8_T2175.pth.tar', 'gen_R8_T2180.pth.tar', 'gen_R8_T2185.pth.tar', 'gen_R8_T2190.pth.tar', 'gen_R8_T2195.pth.tar', 'gen_R8_T2200.pth.tar', 'gen_R8_T2205.pth.tar', 'gen_R8_T2210.pth.tar', 'gen_R8_T2215.pth.tar', 'gen_R8_T2220.pth.tar', 'gen_R8_T2225.pth.tar', 'gen_R8_T2230.pth.tar', 'gen_R8_T2235.pth.tar', 'gen_R8_T2240.pth.tar', 'gen_R8_T2245.pth.tar', 'gen_R8_T2250.pth.tar', 'gen_R8_T2255.pth.tar', 'gen_R8_T2260.pth.tar', 'gen_R8_T2265.pth.tar', 'gen_R8_T2270.pth.tar', 'gen_R8_T2275.pth.tar']\n"
     ]
    },
    {
     "name": "stderr",
     "output_type": "stream",
     "text": [
      "/home/tacchan7412/Developer/pggan-pytorch/custom_layers.py:104: UserWarning: nn.init.kaiming_normal is now deprecated in favor of nn.init.kaiming_normal_.\n",
      "  if initializer == 'kaiming':    kaiming_normal(self.conv.weight, a=calculate_gain('conv2d'))\n"
     ]
    },
    {
     "name": "stdout",
     "output_type": "stream",
     "text": [
      "growing network[4x4 to 8x8]. It may take few seconds...\n",
      "flushing network... It may take few seconds...\n"
     ]
    },
    {
     "name": "stderr",
     "output_type": "stream",
     "text": [
      "/home/tacchan7412/.pyenv/versions/anaconda3-5.3.1/lib/python3.7/site-packages/torch/nn/modules/upsampling.py:129: UserWarning: nn.Upsample is deprecated. Use nn.functional.interpolate instead.\n",
      "  warnings.warn(\"nn.{} is deprecated. Use nn.functional.interpolate instead.\".format(self.name))\n"
     ]
    },
    {
     "name": "stdout",
     "output_type": "stream",
     "text": [
      "growing network[8x8 to 16x16]. It may take few seconds...\n",
      "flushing network... It may take few seconds...\n",
      "growing network[16x16 to 32x32]. It may take few seconds...\n",
      "flushing network... It may take few seconds...\n",
      "growing network[32x32 to 64x64]. It may take few seconds...\n",
      "flushing network... It may take few seconds...\n",
      "growing network[64x64 to 128x128]. It may take few seconds...\n",
      "flushing network... It may take few seconds...\n",
      "growing network[128x128 to 256x256]. It may take few seconds...\n",
      "flushing network... It may take few seconds...\n"
     ]
    }
   ],
   "source": [
    "import network as net\n",
    "from config import config\n",
    "import torch\n",
    "import numpy as np\n",
    "import os\n",
    "from PIL import Image\n",
    "from torchvision import transforms\n",
    "from torchvision import utils as vutils\n",
    "import random\n",
    "\n",
    "seed = 7412\n",
    "\n",
    "np.random.seed(seed)\n",
    "random.seed(seed)\n",
    "torch.manual_seed(seed)\n",
    "torch.cuda.manual_seed(seed)\n",
    "torch.cuda.manual_seed_all(seed)\n",
    "\n",
    "def save_tile_images(images, save_path, nrow):\n",
    "    images = images.detach().cpu()\n",
    "    vutils.save_image(images, save_path, nrow=nrow)\n",
    "\n",
    "device = torch.device(\"cuda\" if torch.cuda.is_available() else \"cpu\")\n",
    "\n",
    "# root = '../storage/PGGAN/results/gucci/2020_05_11_16_54_33' # 256 longer\n",
    "root = '../storage/PGGAN/results/gucci/2020_05_06_23_44_31' # 256 shorter\n",
    "# root = '../storage/PGGAN/results/gucci/2020_05_05_01_18_33' # 128\n",
    "# root = '../storage/PGGAN/results/gucci/2020_05_02_20_55_49' # 64\n",
    "\n",
    "model_root = os.path.join(root, 'models')\n",
    "save_root = os.path.join(root, 'tile_images')\n",
    "\n",
    "model_list = os.listdir(model_root)\n",
    "model_list = sorted([m for m in model_list  if 'gen' in m])\n",
    "print(model_list)\n",
    "\n",
    "z = torch.FloatTensor(16, config.nz).normal_(0.0, 1.0).to(device)\n",
    "\n",
    "G = net.Generator(config).to(device)\n",
    "G.eval()\n",
    "with torch.no_grad():\n",
    "    old_resl = 2\n",
    "    for m in model_list:\n",
    "        resl = int(m[5])\n",
    "        if resl > old_resl:\n",
    "            G.grow_network(resl)\n",
    "            G.flush_network()\n",
    "            G.to(device)\n",
    "            G.eval()\n",
    "            old_resl = resl\n",
    "        checkpoint = torch.load(os.path.join(model_root, m))\n",
    "        G.load_state_dict(checkpoint['state_dict'])\n",
    "\n",
    "        images = G(z)\n",
    "        os.makedirs(save_root, exist_ok=True)\n",
    "        save_tile_images(images, os.path.join(save_root, m+'.png'), 4)"
   ]
  },
  {
   "cell_type": "code",
   "execution_count": 18,
   "metadata": {},
   "outputs": [
    {
     "name": "stdout",
     "output_type": "stream",
     "text": [
      "../storage/PGGAN/results/gucci/2020_05_02_20_55_49/models\n"
     ]
    },
    {
     "name": "stderr",
     "output_type": "stream",
     "text": [
      "/home/tacchan7412/Developer/pggan-pytorch/custom_layers.py:104: UserWarning: nn.init.kaiming_normal is now deprecated in favor of nn.init.kaiming_normal_.\n",
      "  if initializer == 'kaiming':    kaiming_normal(self.conv.weight, a=calculate_gain('conv2d'))\n"
     ]
    },
    {
     "name": "stdout",
     "output_type": "stream",
     "text": [
      "growing network[4x4 to 8x8]. It may take few seconds...\n",
      "flushing network... It may take few seconds...\n",
      "growing network[8x8 to 16x16]. It may take few seconds...\n",
      "flushing network... It may take few seconds...\n",
      "growing network[16x16 to 32x32]. It may take few seconds...\n",
      "flushing network... It may take few seconds...\n",
      "growing network[32x32 to 64x64]. It may take few seconds...\n",
      "flushing network... It may take few seconds...\n",
      "load checkpoint form ... ../storage/PGGAN/results/gucci/2020_05_02_20_55_49/models/gen_R6_T950.pth.tar\n"
     ]
    },
    {
     "name": "stderr",
     "output_type": "stream",
     "text": [
      "/home/tacchan7412/.pyenv/versions/anaconda3-5.3.1/lib/python3.7/site-packages/torch/nn/modules/upsampling.py:129: UserWarning: nn.Upsample is deprecated. Use nn.functional.interpolate instead.\n",
      "  warnings.warn(\"nn.{} is deprecated. Use nn.functional.interpolate instead.\".format(self.name))\n"
     ]
    }
   ],
   "source": [
    "print(model_root)\n",
    "checkpoint_path = os.path.join(model_root, 'gen_R6_T950.pth.tar')\n",
    "n_intp = 20\n",
    "\n",
    "np.random.seed(seed)\n",
    "random.seed(seed)\n",
    "torch.manual_seed(seed)\n",
    "torch.cuda.manual_seed(seed)\n",
    "torch.cuda.manual_seed_all(seed)\n",
    "\n",
    "test_model = net.Generator(config).to(device)\n",
    "\n",
    "for resl in range(3, 6+1):\n",
    "    test_model.grow_network(resl)\n",
    "    test_model.flush_network()\n",
    "test_model.to(device)\n",
    "\n",
    "print('load checkpoint form ... {}'.format(checkpoint_path))\n",
    "checkpoint = torch.load(checkpoint_path)\n",
    "test_model.load_state_dict(checkpoint['state_dict'])\n",
    "\n",
    "save_root = os.path.join(root, 'morph_images')\n",
    "os.makedirs(save_root, exist_ok=True)\n",
    "\n",
    "for k in range(10):\n",
    "    # interpolate between twe noise(z1, z2).\n",
    "    z1 = torch.FloatTensor(1, config.nz).normal_(0.0, 1.0).to(device)\n",
    "    z2 = torch.FloatTensor(1, config.nz).normal_(0.0, 1.0).to(device)\n",
    "    z_intp = torch.FloatTensor(n_intp, config.nz).to(device)\n",
    "\n",
    "    for i in range(n_intp):\n",
    "        alpha = 1.0/float(n_intp+1)\n",
    "        z_intp[i] = z1.mul_(alpha) + z2.mul_(1.0-alpha)\n",
    "    fake_im = test_model(z_intp)\n",
    "    save_tile_images(fake_im, os.path.join(save_root, str(k)+'.png'), 1)"
   ]
  },
  {
   "cell_type": "code",
   "execution_count": null,
   "metadata": {},
   "outputs": [],
   "source": []
  }
 ],
 "metadata": {
  "kernelspec": {
   "display_name": "Python 3",
   "language": "python",
   "name": "python3"
  },
  "language_info": {
   "codemirror_mode": {
    "name": "ipython",
    "version": 3
   },
   "file_extension": ".py",
   "mimetype": "text/x-python",
   "name": "python",
   "nbconvert_exporter": "python",
   "pygments_lexer": "ipython3",
   "version": "3.7.2"
  }
 },
 "nbformat": 4,
 "nbformat_minor": 2
}
