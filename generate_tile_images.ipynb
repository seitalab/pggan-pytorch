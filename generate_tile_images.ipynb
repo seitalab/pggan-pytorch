{
 "cells": [
  {
   "cell_type": "code",
   "execution_count": 1,
   "metadata": {},
   "outputs": [
    {
     "name": "stdout",
     "output_type": "stream",
     "text": [
      "['gen_R3_T200.pth.tar', 'gen_R4_T300.pth.tar', 'gen_R5_T400.pth.tar', 'gen_R6_T500.pth.tar', 'gen_R7_T600.pth.tar', 'gen_R8_T1000.pth.tar', 'gen_R8_T1050.pth.tar', 'gen_R8_T1100.pth.tar', 'gen_R8_T700.pth.tar', 'gen_R8_T750.pth.tar', 'gen_R8_T800.pth.tar', 'gen_R8_T850.pth.tar', 'gen_R8_T900.pth.tar', 'gen_R8_T950.pth.tar']\n"
     ]
    },
    {
     "name": "stderr",
     "output_type": "stream",
     "text": [
      "/home/tacchan7412/Developer/pggan-pytorch/custom_layers.py:104: UserWarning: nn.init.kaiming_normal is now deprecated in favor of nn.init.kaiming_normal_.\n",
      "  if initializer == 'kaiming':    kaiming_normal(self.conv.weight, a=calculate_gain('conv2d'))\n"
     ]
    },
    {
     "name": "stdout",
     "output_type": "stream",
     "text": [
      "growing network[4x4 to 8x8]. It may take few seconds...\n",
      "flushing network... It may take few seconds...\n"
     ]
    },
    {
     "name": "stderr",
     "output_type": "stream",
     "text": [
      "/home/tacchan7412/.pyenv/versions/anaconda3-5.3.1/lib/python3.7/site-packages/torch/nn/modules/upsampling.py:129: UserWarning: nn.Upsample is deprecated. Use nn.functional.interpolate instead.\n",
      "  warnings.warn(\"nn.{} is deprecated. Use nn.functional.interpolate instead.\".format(self.name))\n"
     ]
    },
    {
     "name": "stdout",
     "output_type": "stream",
     "text": [
      "growing network[8x8 to 16x16]. It may take few seconds...\n",
      "flushing network... It may take few seconds...\n",
      "growing network[16x16 to 32x32]. It may take few seconds...\n",
      "flushing network... It may take few seconds...\n",
      "growing network[32x32 to 64x64]. It may take few seconds...\n",
      "flushing network... It may take few seconds...\n",
      "growing network[64x64 to 128x128]. It may take few seconds...\n",
      "flushing network... It may take few seconds...\n",
      "growing network[128x128 to 256x256]. It may take few seconds...\n",
      "flushing network... It may take few seconds...\n"
     ]
    }
   ],
   "source": [
    "import network as net\n",
    "from config import config\n",
    "import torch\n",
    "import numpy as np\n",
    "import os\n",
    "from PIL import Image\n",
    "from torchvision import transforms\n",
    "from torchvision import utils as vutils\n",
    "import random\n",
    "\n",
    "seed = 7412\n",
    "\n",
    "np.random.seed(seed)\n",
    "random.seed(seed)\n",
    "torch.manual_seed(seed)\n",
    "torch.cuda.manual_seed(seed)\n",
    "torch.cuda.manual_seed_all(seed)\n",
    "\n",
    "def save_tile_images(resl, images, save_path):\n",
    "    images = images.detach().cpu()\n",
    "    image_size = 2**resl\n",
    "    vutils.save_image(images, save_path, nrow=10)\n",
    "\n",
    "device = torch.device(\"cuda\" if torch.cuda.is_available() else \"cpu\")\n",
    "\n",
    "# root = '../storage/PGGAN/results/emarie_rose/2019_10_02_15_48_14'\n",
    "# root = '../storage/PGGAN/results/emarie_rose/2019_10_02_15_48_59'\n",
    "root = '../storage/PGGAN/results/emarie_rose/2019_10_02_15_49_29'\n",
    "\n",
    "model_root = os.path.join(root, 'models')\n",
    "save_root = os.path.join(root, 'tile_images')\n",
    "\n",
    "model_list = os.listdir(model_root)\n",
    "model_list = sorted([m for m in model_list  if 'gen' in m])\n",
    "print(model_list)\n",
    "\n",
    "\n",
    "G = net.Generator(config).to(device)\n",
    "G.eval()\n",
    "with torch.no_grad():\n",
    "    old_resl = 2\n",
    "    for m in model_list:\n",
    "        resl = int(m[5])\n",
    "        if resl > old_resl:\n",
    "            G.grow_network(resl)\n",
    "            G.flush_network()\n",
    "            G.to(device)\n",
    "            G.eval()\n",
    "            old_resl = resl\n",
    "        checkpoint = torch.load(os.path.join(model_root, m))\n",
    "        G.load_state_dict(checkpoint['state_dict'])\n",
    "\n",
    "        z = torch.FloatTensor(100, config.nz).normal_(0.0, 1.0).to(device)\n",
    "        images = G(z)\n",
    "        os.makedirs(save_root, exist_ok=True)\n",
    "        save_tile_images(resl, images, os.path.join(save_root, m+'.png'))"
   ]
  },
  {
   "cell_type": "code",
   "execution_count": null,
   "metadata": {},
   "outputs": [],
   "source": []
  }
 ],
 "metadata": {
  "kernelspec": {
   "display_name": "Python 3",
   "language": "python",
   "name": "python3"
  },
  "language_info": {
   "codemirror_mode": {
    "name": "ipython",
    "version": 3
   },
   "file_extension": ".py",
   "mimetype": "text/x-python",
   "name": "python",
   "nbconvert_exporter": "python",
   "pygments_lexer": "ipython3",
   "version": "3.7.1"
  }
 },
 "nbformat": 4,
 "nbformat_minor": 2
}
